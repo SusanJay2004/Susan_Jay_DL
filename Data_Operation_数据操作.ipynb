{
 "cells": [
  {
   "cell_type": "code",
   "execution_count": 2,
   "metadata": {},
   "outputs": [
    {
     "name": "stdout",
     "output_type": "stream",
     "text": [
      "tensor([[-3.2538e-19,  1.6647e-42,  0.0000e+00],\n",
      "        [ 0.0000e+00,  0.0000e+00,  0.0000e+00],\n",
      "        [ 0.0000e+00,  0.0000e+00,  0.0000e+00],\n",
      "        [ 0.0000e+00,  0.0000e+00,  0.0000e+00],\n",
      "        [ 0.0000e+00,  0.0000e+00,  0.0000e+00]])\n"
     ]
    }
   ],
   "source": [
    "import torch\n",
    "# 创建一个5x3的未初始化的Tensor\n",
    "x = torch.empty(5, 3)\n",
    "print(x)"
   ]
  },
  {
   "cell_type": "code",
   "execution_count": 3,
   "metadata": {},
   "outputs": [
    {
     "name": "stdout",
     "output_type": "stream",
     "text": [
      "tensor([[0.8380, 0.7807, 0.6941],\n",
      "        [0.9632, 0.5328, 0.5848],\n",
      "        [0.5598, 0.6569, 0.1787],\n",
      "        [0.9133, 0.8901, 0.2981],\n",
      "        [0.8154, 0.3126, 0.1799]])\n"
     ]
    }
   ],
   "source": [
    "# 创建一个5x3的随机初始化的Tensor\n",
    "x = torch.rand(5, 3)\n",
    "print(x)"
   ]
  },
  {
   "cell_type": "code",
   "execution_count": 4,
   "metadata": {},
   "outputs": [
    {
     "name": "stdout",
     "output_type": "stream",
     "text": [
      "tensor([[0, 0, 0],\n",
      "        [0, 0, 0],\n",
      "        [0, 0, 0],\n",
      "        [0, 0, 0],\n",
      "        [0, 0, 0]])\n",
      "tensor([[[1, 1, 1, 1],\n",
      "         [1, 1, 1, 1],\n",
      "         [1, 1, 1, 1]],\n",
      "\n",
      "        [[1, 1, 1, 1],\n",
      "         [1, 1, 1, 1],\n",
      "         [1, 1, 1, 1]]], dtype=torch.int32)\n"
     ]
    }
   ],
   "source": [
    "# 创建一个5x3的long型全0的Tensor\n",
    "x = torch.zeros(5, 3, dtype=torch.long)\n",
    "print(x)\n",
    "\n",
    "# 使用全1数据创建一个2x3x4的Tensor\n",
    "tp = torch.ones((2, 3, 4), dtype=torch.int)\n",
    "print(tp)"
   ]
  },
  {
   "cell_type": "code",
   "execution_count": 5,
   "metadata": {},
   "outputs": [
    {
     "name": "stdout",
     "output_type": "stream",
     "text": [
      "tensor([5.5000, 3.0000])\n",
      "tensor([[[ 2,  1,  4,  3],\n",
      "         [ 1,  2,  3,  4],\n",
      "         [ 4,  3,  2,  1]],\n",
      "\n",
      "        [[ 7,  8, 10, 12],\n",
      "         [-1, -3, -5, 13],\n",
      "         [ 1,  4,  6,  8]]])\n",
      "torch.Size([2, 3, 4])\n"
     ]
    }
   ],
   "source": [
    "# 直接根据数据创建\n",
    "x = torch.tensor([5.5, 3])\n",
    "print(x)\n",
    "\n",
    "# 通过提供包含数值的python列表创建Tensor\n",
    "tp = torch.tensor([[[2, 1, 4, 3], [1, 2, 3 ,4], [4, 3, 2, 1]], [[7, 8, 10, 12], [-1, -3, -5, 13], [1, 4, 6, 8]]])\n",
    "print(tp)\n",
    "print(tp.size())"
   ]
  },
  {
   "cell_type": "code",
   "execution_count": 6,
   "metadata": {},
   "outputs": [
    {
     "name": "stdout",
     "output_type": "stream",
     "text": [
      "tensor([[1., 1., 1.],\n",
      "        [1., 1., 1.],\n",
      "        [1., 1., 1.],\n",
      "        [1., 1., 1.],\n",
      "        [1., 1., 1.]], dtype=torch.float64)\n",
      "tensor([[ 0.8237, -0.5619, -0.2668],\n",
      "        [ 1.4587,  1.1159,  0.6411],\n",
      "        [-0.3077,  0.0846,  0.1844],\n",
      "        [ 0.3566, -0.6325, -0.7176],\n",
      "        [ 0.5371,  0.3534, -1.0793]])\n"
     ]
    }
   ],
   "source": [
    "# 还可以通过现有的Tensor来创建，此方法会默认重用输入Tensor的一些属性，例如数据类型，除非自定义数据类型\n",
    "x = x.new_ones(5, 3, dtype=torch.float64)  # 返回的tensor默认具有相同的torch.dtype和torch.device\n",
    "print(x)\n",
    "\n",
    "x = torch.randn_like(x, dtype=torch.float) # 指定新的数据类型\n",
    "print(x) "
   ]
  },
  {
   "cell_type": "code",
   "execution_count": 7,
   "metadata": {},
   "outputs": [
    {
     "name": "stdout",
     "output_type": "stream",
     "text": [
      "torch.Size([5, 3])\n",
      "torch.Size([5, 3])\n"
     ]
    }
   ],
   "source": [
    "# 通过shape或者size()来获取Tensor的形状\n",
    "print(x.size())\n",
    "print(x.shape)"
   ]
  },
  {
   "cell_type": "code",
   "execution_count": 8,
   "metadata": {},
   "outputs": [
    {
     "name": "stdout",
     "output_type": "stream",
     "text": [
      "tensor([[ 1.0436, -0.2641,  0.1153],\n",
      "        [ 1.4896,  1.2841,  1.0436],\n",
      "        [ 0.4665,  0.7000,  0.4310],\n",
      "        [ 1.3226, -0.1544, -0.3221],\n",
      "        [ 1.1848,  0.8209, -1.0435]])\n"
     ]
    }
   ],
   "source": [
    "# 加法形式一\n",
    "y = torch.rand(5, 3)\n",
    "print(x + y)"
   ]
  },
  {
   "cell_type": "code",
   "execution_count": 9,
   "metadata": {},
   "outputs": [
    {
     "name": "stdout",
     "output_type": "stream",
     "text": [
      "tensor([[ 1.0436, -0.2641,  0.1153],\n",
      "        [ 1.4896,  1.2841,  1.0436],\n",
      "        [ 0.4665,  0.7000,  0.4310],\n",
      "        [ 1.3226, -0.1544, -0.3221],\n",
      "        [ 1.1848,  0.8209, -1.0435]])\n"
     ]
    }
   ],
   "source": [
    "# 加法形式二\n",
    "print(torch.add(x, y))"
   ]
  },
  {
   "cell_type": "code",
   "execution_count": 10,
   "metadata": {},
   "outputs": [
    {
     "name": "stdout",
     "output_type": "stream",
     "text": [
      "tensor([[ 1.0436, -0.2641,  0.1153],\n",
      "        [ 1.4896,  1.2841,  1.0436],\n",
      "        [ 0.4665,  0.7000,  0.4310],\n",
      "        [ 1.3226, -0.1544, -0.3221],\n",
      "        [ 1.1848,  0.8209, -1.0435]])\n"
     ]
    }
   ],
   "source": [
    "# 还可指定输出\n",
    "result = torch.empty(5, 3)\n",
    "torch.add(x, y, out=result)\n",
    "print(result)"
   ]
  },
  {
   "cell_type": "code",
   "execution_count": 11,
   "metadata": {},
   "outputs": [
    {
     "name": "stdout",
     "output_type": "stream",
     "text": [
      "tensor([[ 1.0436, -0.2641,  0.1153],\n",
      "        [ 1.4896,  1.2841,  1.0436],\n",
      "        [ 0.4665,  0.7000,  0.4310],\n",
      "        [ 1.3226, -0.1544, -0.3221],\n",
      "        [ 1.1848,  0.8209, -1.0435]])\n"
     ]
    }
   ],
   "source": [
    "# 加法形式三\n",
    "# adds x to y\n",
    "y.add_(x)\n",
    "print(y)\n",
    "# PyTorch操作inplace版本都有后缀_, 例如x.copy_(y), x.t_()"
   ]
  },
  {
   "cell_type": "code",
   "execution_count": 12,
   "metadata": {},
   "outputs": [
    {
     "name": "stdout",
     "output_type": "stream",
     "text": [
      "tensor([[ 0.8237, -0.5619, -0.2668],\n",
      "        [ 1.4587,  1.1159,  0.6411],\n",
      "        [-0.3077,  0.0846,  0.1844],\n",
      "        [ 0.3566, -0.6325, -0.7176],\n",
      "        [ 0.5371,  0.3534, -1.0793]])\n",
      "tensor([ 0.8237, -0.5619, -0.2668])\n",
      "tensor([1.8237, 0.4381, 0.7332])\n",
      "tensor([1.8237, 0.4381, 0.7332])\n",
      "tensor([[ 0.7332],\n",
      "        [ 0.6411],\n",
      "        [ 0.1844],\n",
      "        [-0.7176],\n",
      "        [-1.0793]])\n"
     ]
    }
   ],
   "source": [
    "# 可以使用类似NumPy的索引操作来访问Tensor的一部分，需要注意的是：索引出来的结果与原数据共享内存，\n",
    "# 也即修改一个，另一个会跟着修改\n",
    "print(x)\n",
    "y = x[0, :]  # 第一行(0 表示第一行，: 表示所有列)\n",
    "print(y)\n",
    "y += 1\n",
    "print(y)\n",
    "print(x[0, :]) # 源tensor也被改了\n",
    "# 选择第 3 维度（列）中的第 2 个索引\n",
    "z = torch.index_select(x, 1, torch.tensor([2]))\n",
    "print(z)"
   ]
  },
  {
   "cell_type": "code",
   "execution_count": 13,
   "metadata": {},
   "outputs": [
    {
     "name": "stdout",
     "output_type": "stream",
     "text": [
      "torch.Size([5, 3]) torch.Size([15]) torch.Size([3, 5])\n",
      "15 15 15\n"
     ]
    }
   ],
   "source": [
    "# 用view()来改变Tensor的形状\n",
    "y = x.view(15)\n",
    "z = x.view(-1, 5)  # -1所指的维度可以根据其他维度的值推出来\n",
    "print(x.size(), y.size(), z.size())\n",
    "print(x.numel(), y.numel(), z.numel())  # numel()返回元素个数"
   ]
  },
  {
   "cell_type": "code",
   "execution_count": 14,
   "metadata": {},
   "outputs": [
    {
     "name": "stdout",
     "output_type": "stream",
     "text": [
      "tensor([[ 2.8237,  1.4381,  1.7332],\n",
      "        [ 2.4587,  2.1159,  1.6411],\n",
      "        [ 0.6923,  1.0846,  1.1844],\n",
      "        [ 1.3566,  0.3675,  0.2824],\n",
      "        [ 1.5371,  1.3534, -0.0793]])\n",
      "tensor([ 2.8237,  1.4381,  1.7332,  2.4587,  2.1159,  1.6411,  0.6923,  1.0846,\n",
      "         1.1844,  1.3566,  0.3675,  0.2824,  1.5371,  1.3534, -0.0793])\n"
     ]
    }
   ],
   "source": [
    "# 注意view()返回的新Tensor与源Tensor虽然可能有不同的size，但是是共享data的，也即更改其中的一个，另外一个也会跟着改变。\n",
    "# (顾名思义，view仅仅是改变了对这个张量的观察角度，内部数据并未改变\n",
    "x += 1\n",
    "print(x)\n",
    "print(y) # 也加了1"
   ]
  },
  {
   "cell_type": "code",
   "execution_count": 15,
   "metadata": {},
   "outputs": [
    {
     "name": "stdout",
     "output_type": "stream",
     "text": [
      "tensor([[ 1.8237,  0.4381,  0.7332],\n",
      "        [ 1.4587,  1.1159,  0.6411],\n",
      "        [-0.3077,  0.0846,  0.1844],\n",
      "        [ 0.3566, -0.6325, -0.7176],\n",
      "        [ 0.5371,  0.3534, -1.0793]])\n",
      "tensor([ 2.8237,  1.4381,  1.7332,  2.4587,  2.1159,  1.6411,  0.6923,  1.0846,\n",
      "         1.1844,  1.3566,  0.3675,  0.2824,  1.5371,  1.3534, -0.0793])\n"
     ]
    }
   ],
   "source": [
    "# 如果我们想返回一个真正新的副本（即不共享data内存）该怎么办呢？\n",
    "# 推荐先用clone创造一个副本然后再使用view\n",
    "x_cp = x.clone().view(15)\n",
    "x -= 1\n",
    "print(x)\n",
    "print(x_cp)\n",
    "# 使用clone还有一个好处是会被记录在计算图中，即梯度回传到副本时也会传到源Tensor"
   ]
  },
  {
   "cell_type": "code",
   "execution_count": 16,
   "metadata": {},
   "outputs": [
    {
     "name": "stdout",
     "output_type": "stream",
     "text": [
      "tensor([1.5774])\n",
      "1.5773797035217285\n"
     ]
    }
   ],
   "source": [
    "# 另外一个常用的函数就是item(), 它可以将一个标量Tensor转换成一个Python number\n",
    "x = torch.randn(1)\n",
    "print(x)\n",
    "print(x.item())"
   ]
  },
  {
   "cell_type": "code",
   "execution_count": 17,
   "metadata": {},
   "outputs": [
    {
     "name": "stdout",
     "output_type": "stream",
     "text": [
      "tensor([ 3.,  6.,  7., 10.]) tensor([-1., -2.,  1.,  6.]) tensor([ 2.,  8., 12., 16.]) tensor([0.5000, 0.5000, 1.3333, 4.0000]) tensor([ 1., 16., 64., 64.])\n",
      "tensor([2.7183e+00, 7.3891e+00, 5.4598e+01, 2.9810e+03])\n",
      "tensor([ 0.8415,  0.9093, -0.7568,  0.9894])\n"
     ]
    }
   ],
   "source": [
    "x = torch.tensor([1.0, 2, 4, 8])\n",
    "y = torch.tensor([2, 4, 3, 2])\n",
    "print(x + y, x - y, x * y, x / y, x ** y)\n",
    "\n",
    "print(torch.exp(x))  # e^x\n",
    "print(torch.sin(x))  # sin(x)"
   ]
  },
  {
   "cell_type": "code",
   "execution_count": 18,
   "metadata": {},
   "outputs": [
    {
     "name": "stdout",
     "output_type": "stream",
     "text": [
      "tensor([0, 1, 2, 3, 4, 5, 6, 7, 8, 9])\n",
      "tensor([1, 3, 5, 7, 9])\n",
      "tensor([ 0,  1,  2,  3,  4,  5,  6,  7,  8,  9, 10, 11])\n"
     ]
    }
   ],
   "source": [
    "# arange函数用于生成一个包含从起始值到结束值（不包括结束值）之间的等间隔值的一维张量\n",
    "# 生成从0到10（不包括10），步长为1的张量\n",
    "a = torch.arange(0, 10, 1)\n",
    "print(a)\n",
    "\n",
    "# 生成从1到10（不包括10），步长为2的张量\n",
    "b = torch.arange(1, 10, 2)\n",
    "print(b)\n",
    "\n",
    "c = torch.arange(12)\n",
    "print(c)"
   ]
  },
  {
   "cell_type": "code",
   "execution_count": 19,
   "metadata": {},
   "outputs": [
    {
     "name": "stdout",
     "output_type": "stream",
     "text": [
      "tensor([[ 0.,  1.,  2.,  3.],\n",
      "        [ 4.,  5.,  6.,  7.],\n",
      "        [ 8.,  9., 10., 11.],\n",
      "        [ 2.,  1.,  4.,  3.],\n",
      "        [ 1.,  2.,  3.,  4.],\n",
      "        [ 4.,  3.,  2.,  1.]])\n",
      "tensor([[False,  True, False,  True],\n",
      "        [False, False, False, False],\n",
      "        [False, False, False, False]])\n",
      "66.0\n"
     ]
    }
   ],
   "source": [
    "# 我们也可以把多个张量连结在一起, dim=0表示按行连结，dim=1表示按列连结\n",
    "x = torch.arange(12, dtype=torch.float32).reshape((3, 4))\n",
    "y = torch.tensor([[2, 1, 4, 3], [1, 2, 3, 4], [4, 3, 2, 1]])\n",
    "print(torch.cat((x, y), dim=0))\n",
    "torch.cat((x, y), dim=1)\n",
    "\n",
    "print(x == y)\n",
    "\n",
    "# 对张量中的所有元素求和得到只有一个元素的张量(此处转换为标量)\n",
    "print(x.sum().item())"
   ]
  },
  {
   "cell_type": "code",
   "execution_count": 20,
   "metadata": {},
   "outputs": [
    {
     "name": "stdout",
     "output_type": "stream",
     "text": [
      "tensor([[0],\n",
      "        [1],\n",
      "        [2]]) tensor([[0, 1]])\n",
      "tensor([[0, 1],\n",
      "        [1, 2],\n",
      "        [2, 3]])\n",
      "tensor([[1, 2]])\n",
      "tensor([[1],\n",
      "        [2],\n",
      "        [3]])\n",
      "tensor([[2, 3],\n",
      "        [3, 4],\n",
      "        [4, 5]])\n"
     ]
    }
   ],
   "source": [
    "# 当对两个形状不同的Tensor按元素运算时，\n",
    "# 可能会触发广播（broadcasting）机制：先适当复制元素使这两个Tensor形状相同后再按元素运算\n",
    "a = torch.arange(3).reshape((3, 1))\n",
    "b = torch.arange(2).reshape((1, 2))\n",
    "print(a, b)\n",
    "print(a + b)\n",
    "\n",
    "# 另一个例子：由于x和y分别是1行2列和3行1列的矩阵，如果要计算x + y，\n",
    "# 那么x中第一行的2个元素被广播（复制）到了第二行和第三行，\n",
    "# 而y中第一列的3个元素被广播（复制）到了第二列。\n",
    "# 如此，就可以对2个3行2列的矩阵按元素相加\n",
    "x = torch.arange(1, 3).view(1, 2)\n",
    "print(x)\n",
    "y = torch.arange(1, 4).view(3, 1)\n",
    "print(y)\n",
    "print(x + y)\n"
   ]
  },
  {
   "cell_type": "code",
   "execution_count": 21,
   "metadata": {},
   "outputs": [
    {
     "name": "stdout",
     "output_type": "stream",
     "text": [
      "tensor([ 8,  9, 10, 11])\n",
      "tensor([[ 4,  5,  6,  7],\n",
      "        [ 8,  9, 10, 11]])\n",
      "\n",
      "tensor([[ 0,  1,  2,  3],\n",
      "        [ 4,  5,  9,  7],\n",
      "        [ 8,  9, 10, 11]])\n",
      "\n",
      "tensor([[12, 12, 12, 12],\n",
      "        [12, 12, 12, 12],\n",
      "        [ 8,  9, 10, 11]])\n"
     ]
    }
   ],
   "source": [
    "# 可以用[-1]来访问最后一个元素，[-2]访问倒数第二个元素, 可以用[1:3]来访问第2个和第3个元素\n",
    "x = torch.arange(12).reshape(3, 4)\n",
    "print(x[-1])\n",
    "print(x[1:3])\n",
    "print()\n",
    "# 除读取外，我们还可以通过指定索引来将元素写入矩阵\n",
    "x[1, 2] = 9\n",
    "print(x)\n",
    "print()\n",
    "\n",
    "# 如果我们想为多个元素赋值相同的值，我们只需要索引所有元素，然后为它们赋值\n",
    "# 例如[0:2, :]访问第1行和第2行，其中“:”代表沿轴1（列）的所有元素\n",
    "x[0:2, :] = 12\n",
    "print(x)"
   ]
  },
  {
   "cell_type": "code",
   "execution_count": 22,
   "metadata": {},
   "outputs": [
    {
     "name": "stdout",
     "output_type": "stream",
     "text": [
      "False\n",
      "True\n",
      "True\n"
     ]
    }
   ],
   "source": [
    "# 索引操作是不会开辟新内存的，而像y = x + y这样的运算是会新开内存的，然后将y指向新内存。\n",
    "# 为了演示这一点，我们可以使用Python自带的id函数：如果两个实例的ID一致，那么它们所对应的内存地址相同；反之则不同\n",
    "x = torch.tensor([1, 2])\n",
    "y = torch.tensor([3, 4])\n",
    "id_before = id(y)\n",
    "y = y + x\n",
    "print(id(y) == id_before) # False \n",
    "\n",
    "# 如果想指定结果到原来的y的内存，我们可以使用前面介绍的索引来进行替换操作\n",
    "x = torch.tensor([1, 2])\n",
    "y = torch.tensor([3, 4])\n",
    "id_before = id(y)\n",
    "y[:] = y + x\n",
    "print(id(y) == id_before) # True\n",
    "\n",
    "# 我们还可以使用运算符全名函数中的out参数或者自加运算符+=(也即add_())达到上述效果，\n",
    "# 例如torch.add(x, y, out=y)和y += x(y.add_(x))\n",
    "x = torch.tensor([1, 2])\n",
    "y = torch.tensor([3, 4])\n",
    "id_before = id(y)\n",
    "torch.add(x, y, out=y) # y += x, y.add_(x)\n",
    "print(id(y) == id_before) # True"
   ]
  },
  {
   "cell_type": "code",
   "execution_count": 23,
   "metadata": {},
   "outputs": [
    {
     "name": "stdout",
     "output_type": "stream",
     "text": [
      "<class 'numpy.ndarray'> <class 'torch.Tensor'>\n",
      "[1. 1. 1. 1. 1.] tensor([1., 1., 1., 1., 1.], dtype=torch.float64)\n",
      "[2. 2. 2. 2. 2.] tensor([2., 2., 2., 2., 2.], dtype=torch.float64)\n",
      "[3. 3. 3. 3. 3.] tensor([3., 3., 3., 3., 3.], dtype=torch.float64)\n"
     ]
    }
   ],
   "source": [
    "# 使用from_numpy()将NumPy数组转换成Tensor，使用.numpy()将Tensor转换成NumPy数组\n",
    "import numpy as np\n",
    "a = np.ones(5)\n",
    "b = torch.from_numpy(a)\n",
    "print(type(a), type(b))\n",
    "print(a, b)\n",
    "\n",
    "a += 1\n",
    "print(a, b)\n",
    "\n",
    "b += 1\n",
    "print(a, b)"
   ]
  },
  {
   "cell_type": "code",
   "execution_count": 24,
   "metadata": {},
   "outputs": [
    {
     "data": {
      "text/plain": [
       "(tensor([3.5000]), 3.5, 3.5, 3)"
      ]
     },
     "execution_count": 24,
     "metadata": {},
     "output_type": "execute_result"
    }
   ],
   "source": [
    "# 将大小为1的张量转换为Python的标量\n",
    "a = torch.tensor([3.5])\n",
    "a, a.item(), float(a), int(a)"
   ]
  },
  {
   "cell_type": "code",
   "execution_count": 25,
   "metadata": {},
   "outputs": [
    {
     "name": "stdout",
     "output_type": "stream",
     "text": [
      "tensor([[2, 3, 4],\n",
      "        [5, 6, 7]], device='cuda:0')\n",
      "tensor([[2., 3., 4.],\n",
      "        [5., 6., 7.]], dtype=torch.float64)\n"
     ]
    }
   ],
   "source": [
    "# 用方法to()可以将Tensor在CPU和GPU（需要硬件支持）之间相互移动\n",
    "# 以下代码只有在PyTorch GPU版本上才会执行\n",
    "x = torch.tensor([[1, 2, 3], [4, 5, 6]])\n",
    "if torch.cuda.is_available():\n",
    "    device = torch.device(\"cuda\")          # GPU\n",
    "    y = torch.ones_like(x, device=device)  # 直接创建一个在GPU上的Tensor\n",
    "    x = x.to(device)                       # 等价于 .to(\"cuda\")\n",
    "    z = x + y\n",
    "    print(z)\n",
    "    print(z.to(\"cpu\", torch.double))       # to()还可以同时更改"
   ]
  }
 ],
 "metadata": {
  "kernelspec": {
   "display_name": "deeplearning",
   "language": "python",
   "name": "python3"
  },
  "language_info": {
   "codemirror_mode": {
    "name": "ipython",
    "version": 3
   },
   "file_extension": ".py",
   "mimetype": "text/x-python",
   "name": "python",
   "nbconvert_exporter": "python",
   "pygments_lexer": "ipython3",
   "version": "3.9.21"
  }
 },
 "nbformat": 4,
 "nbformat_minor": 2
}
