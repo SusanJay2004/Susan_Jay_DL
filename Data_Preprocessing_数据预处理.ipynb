{
 "cells": [
  {
   "cell_type": "code",
   "execution_count": 2,
   "metadata": {},
   "outputs": [],
   "source": [
    "# 数据预处理\n",
    "# 创建一个人工数据集，并存储在csv(逗号分隔值)文件中\n",
    "import torch\n",
    "import os\n",
    "import pandas as pd\n",
    "import numpy as np\n",
    "import matplotlib.pyplot as plt"
   ]
  },
  {
   "cell_type": "code",
   "execution_count": 3,
   "metadata": {},
   "outputs": [],
   "source": [
    "# 创建一个名为 'data' 的目录，如果该目录已经存在，则不会报错\n",
    "os.makedirs(os.path.join('..', 'data'), exist_ok=True)\n",
    "\n",
    "# 定义数据文件的路径，文件名为 'house_tiny.csv'\n",
    "data_file = os.path.join('..', 'data', 'house_tiny.csv')\n",
    "\n",
    "# 打开文件进行写操作，如果文件不存在则创建文件\n",
    "with open(data_file, 'w') as f:\n",
    "    # 写入列名\n",
    "    f.write('NumRooms,Alley,Price\\n')  # 列名(房间数，巷子类型，价格)\n",
    "    # 写入第一行数据，表示一个数据样本\n",
    "    f.write('NA,Pave,127500\\n')  # 每行表示一个数据样本(本行：房间数未知，巷子类型为“Pave”，价格为127500)\n",
    "    # 写入第二行数据\n",
    "    f.write('2,NA,106000\\n')\n",
    "    # 写入第三行数据\n",
    "    f.write('4,Brick,178100\\n')  # Brick 表示“砖砌”\n",
    "    # 写入第四行数据\n",
    "    f.write('NA,NA,140000\\n')"
   ]
  },
  {
   "cell_type": "code",
   "execution_count": 4,
   "metadata": {},
   "outputs": [
    {
     "data": {
      "text/html": [
       "<div>\n",
       "<style scoped>\n",
       "    .dataframe tbody tr th:only-of-type {\n",
       "        vertical-align: middle;\n",
       "    }\n",
       "\n",
       "    .dataframe tbody tr th {\n",
       "        vertical-align: top;\n",
       "    }\n",
       "\n",
       "    .dataframe thead th {\n",
       "        text-align: right;\n",
       "    }\n",
       "</style>\n",
       "<table border=\"1\" class=\"dataframe\">\n",
       "  <thead>\n",
       "    <tr style=\"text-align: right;\">\n",
       "      <th></th>\n",
       "      <th>NumRooms</th>\n",
       "      <th>Alley</th>\n",
       "      <th>Price</th>\n",
       "    </tr>\n",
       "  </thead>\n",
       "  <tbody>\n",
       "    <tr>\n",
       "      <th>0</th>\n",
       "      <td>NaN</td>\n",
       "      <td>Pave</td>\n",
       "      <td>127500</td>\n",
       "    </tr>\n",
       "    <tr>\n",
       "      <th>1</th>\n",
       "      <td>2.0</td>\n",
       "      <td>NaN</td>\n",
       "      <td>106000</td>\n",
       "    </tr>\n",
       "    <tr>\n",
       "      <th>2</th>\n",
       "      <td>4.0</td>\n",
       "      <td>Brick</td>\n",
       "      <td>178100</td>\n",
       "    </tr>\n",
       "    <tr>\n",
       "      <th>3</th>\n",
       "      <td>NaN</td>\n",
       "      <td>NaN</td>\n",
       "      <td>140000</td>\n",
       "    </tr>\n",
       "  </tbody>\n",
       "</table>\n",
       "</div>"
      ],
      "text/plain": [
       "   NumRooms  Alley   Price\n",
       "0       NaN   Pave  127500\n",
       "1       2.0    NaN  106000\n",
       "2       4.0  Brick  178100\n",
       "3       NaN    NaN  140000"
      ]
     },
     "execution_count": 4,
     "metadata": {},
     "output_type": "execute_result"
    }
   ],
   "source": [
    "# 读取数据集, 一般用的是pandas的read_csv函数\n",
    "data = pd.read_csv(data_file)\n",
    "data  # jupyter中直接输出data，会显示表格形式的数据"
   ]
  },
  {
   "cell_type": "code",
   "execution_count": 5,
   "metadata": {},
   "outputs": [
    {
     "name": "stdout",
     "output_type": "stream",
     "text": [
      "   NumRooms  Alley\n",
      "0       3.0   Pave\n",
      "1       2.0    NaN\n",
      "2       4.0  Brick\n",
      "3       3.0    NaN\n",
      "0    127500\n",
      "1    106000\n",
      "2    178100\n",
      "3    140000\n",
      "Name: Price, dtype: int64\n"
     ]
    }
   ],
   "source": [
    "# 为了处理缺失的数据，典型的方法包括插值和删除，这里我们将考虑插值\n",
    "# 假设 data 是之前读取的 DataFrame\n",
    "data = pd.read_csv(data_file)\n",
    "\n",
    "# inputs 包含前两列（NumRooms 和 Alley），outputs 包含第三列（Price）\n",
    "inputs, outputs = data.iloc[:, 0:2], data.iloc[:, 2]\n",
    "\n",
    "# 只对数值列进行插值\n",
    "# 选择 inputs 中的数值列\n",
    "numeric_inputs = inputs.select_dtypes(include=[np.number])\n",
    "\n",
    "# 使用数值列的均值(此处为2.0 + 4.0 >> 1 = 3.0)填充缺失值\n",
    "inputs[numeric_inputs.columns] = numeric_inputs.fillna(numeric_inputs.mean())\n",
    "\n",
    "# 打印处理后的 inputs, outputs\n",
    "print(inputs)\n",
    "print(outputs)"
   ]
  },
  {
   "cell_type": "code",
   "execution_count": 6,
   "metadata": {},
   "outputs": [
    {
     "name": "stdout",
     "output_type": "stream",
     "text": [
      "   NumRooms  Alley_Brick  Alley_Pave  Alley_nan\n",
      "0         3            0           1          0\n",
      "1         2            0           0          1\n",
      "2         4            1           0          0\n",
      "3         3            0           0          1\n"
     ]
    }
   ],
   "source": [
    "# 对于 inputs 中的类别值或离散值，我们将 “NaN” 视为一个类别\n",
    "# get_dummies 将 “NaN” 视为有效的类别值，并为其创建指示特征\n",
    "inputs = pd.get_dummies(inputs, dummy_na=True)  # dummy_na=True 将缺失值也当作合法的特征值并为其创建指示特征\n",
    "inputs = inputs.astype(int)  # 转换数据类型为整数\n",
    "print(inputs)"
   ]
  },
  {
   "cell_type": "code",
   "execution_count": 7,
   "metadata": {},
   "outputs": [
    {
     "data": {
      "text/plain": [
       "(tensor([[3, 0, 1, 0],\n",
       "         [2, 0, 0, 1],\n",
       "         [4, 1, 0, 0],\n",
       "         [3, 0, 0, 1]], dtype=torch.int32),\n",
       " tensor([127500, 106000, 178100, 140000]))"
      ]
     },
     "execution_count": 7,
     "metadata": {},
     "output_type": "execute_result"
    }
   ],
   "source": [
    "# 现在 inputs 和 outputs 中的所有条目都是数值类型，它们可以转换为张量格式\n",
    "# 如有需要，将 outputs 也转换为数值(整数)类型\n",
    "# outputs = outputs.astype(int)\n",
    "\n",
    "# 转换为张量格式\n",
    "x, y = torch.tensor(inputs.values), torch.tensor(outputs.values)\n",
    "x, y"
   ]
  }
 ],
 "metadata": {
  "kernelspec": {
   "display_name": "deeplearning",
   "language": "python",
   "name": "python3"
  },
  "language_info": {
   "codemirror_mode": {
    "name": "ipython",
    "version": 3
   },
   "file_extension": ".py",
   "mimetype": "text/x-python",
   "name": "python",
   "nbconvert_exporter": "python",
   "pygments_lexer": "ipython3",
   "version": "3.9.21"
  }
 },
 "nbformat": 4,
 "nbformat_minor": 2
}
