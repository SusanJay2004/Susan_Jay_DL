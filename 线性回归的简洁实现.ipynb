{
 "cells": [
  {
   "cell_type": "code",
   "execution_count": 14,
   "metadata": {},
   "outputs": [],
   "source": [
    "# 在本节中，我们将介绍如何使用PyTorch更方便地实现线性回归的训练\n",
    "import torch\n",
    "from IPython import display\n",
    "from matplotlib import pyplot as plt\n",
    "import numpy as np\n",
    "import random\n",
    "from d2lzh_pytorch import *"
   ]
  },
  {
   "cell_type": "code",
   "execution_count": 15,
   "metadata": {},
   "outputs": [],
   "source": [
    "# 3.2.1 生成数据集\n",
    "# 我们生成与上一节中相同的数据集。其中features是训练数据特征，labels是标签\n",
    "num_inputs = 2\n",
    "num_examples = 1000\n",
    "true_w = [2, -3.4]\n",
    "true_b = 4.2\n",
    "features = torch.tensor(np.random.normal(0, 1, (num_examples, num_inputs)), dtype=torch.float)\n",
    "labels = true_w[0] * features[:, 0] + true_w[1] * features[:, 1] + true_b\n",
    "labels += torch.tensor(np.random.normal(0, 0.01, size=labels.size()), dtype=torch.float)"
   ]
  },
  {
   "cell_type": "code",
   "execution_count": 16,
   "metadata": {},
   "outputs": [],
   "source": [
    "# 3.2.2 读取数据\n",
    "# PyTorch提供了data包来读取数据。由于data常用作变量名，我们将导入的data模块用Data代替。\n",
    "# 在每一次迭代中，我们将随机读取包含10个数据样本的小批量\n",
    "import torch.utils.data as Data\n",
    "\n",
    "batch_size = 10\n",
    "# 将训练数据的特征和标签组合\n",
    "dataset = Data.TensorDataset(features, labels)\n",
    "# 随机读取小批量\n",
    "data_iter = Data.DataLoader(dataset, batch_size, shuffle=True)"
   ]
  },
  {
   "cell_type": "code",
   "execution_count": 17,
   "metadata": {},
   "outputs": [
    {
     "name": "stdout",
     "output_type": "stream",
     "text": [
      "tensor([[ 0.3761, -0.5668],\n",
      "        [-0.3848,  2.2108],\n",
      "        [ 0.8037, -1.0587],\n",
      "        [ 1.0491, -0.6454],\n",
      "        [ 0.1318, -0.9359],\n",
      "        [ 1.2034,  1.0105],\n",
      "        [ 1.3914,  0.6257],\n",
      "        [ 0.4403,  1.0868],\n",
      "        [-1.6306, -1.8109],\n",
      "        [ 0.6389, -0.0314]]) tensor([ 6.9003, -4.0709,  9.4136,  8.4929,  7.6588,  3.1798,  4.8568,  1.3845,\n",
      "         7.1093,  5.5883])\n"
     ]
    }
   ],
   "source": [
    "# 这里data_iter的使用跟上一节中的一样。让我们读取并打印第一个小批量数据样本\n",
    "for X, y in data_iter:\n",
    "    print(X, y)\n",
    "    break"
   ]
  },
  {
   "cell_type": "code",
   "execution_count": null,
   "metadata": {},
   "outputs": [
    {
     "name": "stdout",
     "output_type": "stream",
     "text": [
      "LinearNet(\n",
      "  (linear): Linear(in_features=2, out_features=1, bias=True)\n",
      ")\n"
     ]
    }
   ],
   "source": [
    "# 3.2.3 定义模型\n",
    "# 首先，导入torch.nn模块。实际上，“nn”是neural networks（神经网络）的缩写。\n",
    "# 顾名思义，该模块定义了大量神经网络的层。之前我们已经用过了autograd，而nn就是利用autograd来定义模型。\n",
    "# nn的核心数据结构是Module，它是一个抽象概念，既可以表示神经网络中的某个层（layer），也可以表示一个包含很多层的神经网络。\n",
    "# 在实际使用中，最常见的做法是继承nn.Module，撰写自己的网络/层。\n",
    "# 一个nn.Module实例应该包含一些层以及返回输出的前向传播（forward）方法。\n",
    "# 下面先来看看如何用nn.Module实现一个线性回归模型\n",
    "\n",
    "class LinearNet(nn.Module):   \n",
    "    # 定义一个名为 LinearNet 的新类，继承自 PyTorch 的 nn.Module，\n",
    "    # nn.Module 是 PyTorch 中所有神经网络模块的基类，提供了参数管理、设备迁移等基础功能\n",
    "    def __init__(self, n_feature):\n",
    "        # 定义类的初始化方法\n",
    "        # 接收一个参数 n_feature，表示输入特征的维度（即有多少个特征）\n",
    "\n",
    "        # 调用父类的初始化方法，确保nn.Module的初始化方法被正确调用，第一个参数告诉Python从LinearNet的父类中查找__init__方法\n",
    "        super(LinearNet, self).__init__()  \n",
    "\n",
    "        # 创建一个线性层（全连接层）对象，\n",
    "        # nn.Linear(n_feature, 1) 表示一个从 n_feature 维到 1 维的线性变换：y = Wx + b\n",
    "        # 将这个线性层保存为类的属性 self.linear\n",
    "        # 这里输出维度为 1，因为线性回归预测的是一个标量值\n",
    "        self.linear = nn.Linear(n_feature, 1)\n",
    "\n",
    "    # forward 定义前向传播：\n",
    "    # 在 PyTorch 中，必须实现 forward 方法来定义计算逻辑\n",
    "    # 接收输入数据 x，返回模型的输出 y\n",
    "    def forward(self, x):\n",
    "        # 将输入 x 传入线性层进行计算\n",
    "        # self.linear(x) 等价于执行 y = Wx + b 的线性变换\n",
    "        # 结果保存在变量 y 中\n",
    "        y = self.linear(x)\n",
    "        return y\n",
    "\n",
    "# 创建 LinearNet 类的一个实例，命名为 net\n",
    "# num_inputs 是一个之前定义的变量(值为2)，表示输入特征的数量\n",
    "net = LinearNet(num_inputs)\n",
    "print(net) # 使用print可以打印出网络的结构"
   ]
  },
  {
   "cell_type": "markdown",
   "metadata": {},
   "source": [
    "事实上我们还可以用nn.Sequential来更加方便地搭建网络，Sequential是一个有序的容器，网络层将按照在传入Sequential的顺序依次被添加到计算图中。\n",
    "\n",
    "写法一\n",
    "\n",
    "net = nn.Sequential(\n",
    "\n",
    "          nn.Linear(num_inputs, 1)\n",
    "\n",
    "          # 此处还可以传入其他层\n",
    "\n",
    "          )\n",
    "\n",
    "写法二\n",
    "\n",
    "net = nn.Sequential()\n",
    "\n",
    "net.add_module('linear', nn.Linear(num_inputs, 1))\n",
    "\n",
    "#net.add_module ......\n",
    "\n",
    "写法三\n",
    "\n",
    "from collections import OrderedDict\n",
    "\n",
    "net = nn.Sequential(OrderedDict([\n",
    "\n",
    "            ('linear', nn.Linear(num_inputs, 1))\n",
    "\n",
    "            # ......\n",
    "\n",
    "            ]))\n",
    "\n",
    "\n",
    "print(net)\n",
    "\n",
    "print(net[0])"
   ]
  }
 ],
 "metadata": {
  "kernelspec": {
   "display_name": "deeplearning",
   "language": "python",
   "name": "python3"
  },
  "language_info": {
   "codemirror_mode": {
    "name": "ipython",
    "version": 3
   },
   "file_extension": ".py",
   "mimetype": "text/x-python",
   "name": "python",
   "nbconvert_exporter": "python",
   "pygments_lexer": "ipython3",
   "version": "3.9.21"
  }
 },
 "nbformat": 4,
 "nbformat_minor": 2
}
